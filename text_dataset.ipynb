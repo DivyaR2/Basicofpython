{
 "cells": [
  {
   "cell_type": "code",
   "execution_count": 3,
   "metadata": {},
   "outputs": [],
   "source": [
    "#find how to import a data set through pandas and manupilating \n",
    "\n",
    "#importing librarys\n",
    "import pandas as pd\n",
    "import matplotlib.pyplot\n",
    "%matplotlib inline\n",
    "\n",
    "#importing a data set\n",
    "\n",
    "melbourne_data = pd.read_csv('melb_data (1).csv')"
   ]
  },
  {
   "cell_type": "code",
   "execution_count": 4,
   "metadata": {},
   "outputs": [
    {
     "data": {
      "text/html": [
       "<div>\n",
       "<style scoped>\n",
       "    .dataframe tbody tr th:only-of-type {\n",
       "        vertical-align: middle;\n",
       "    }\n",
       "\n",
       "    .dataframe tbody tr th {\n",
       "        vertical-align: top;\n",
       "    }\n",
       "\n",
       "    .dataframe thead th {\n",
       "        text-align: right;\n",
       "    }\n",
       "</style>\n",
       "<table border=\"1\" class=\"dataframe\">\n",
       "  <thead>\n",
       "    <tr style=\"text-align: right;\">\n",
       "      <th></th>\n",
       "      <th>Rooms</th>\n",
       "      <th>Price</th>\n",
       "      <th>Distance</th>\n",
       "      <th>Postcode</th>\n",
       "      <th>Bedroom2</th>\n",
       "      <th>Bathroom</th>\n",
       "      <th>Car</th>\n",
       "      <th>Landsize</th>\n",
       "      <th>BuildingArea</th>\n",
       "      <th>YearBuilt</th>\n",
       "      <th>Lattitude</th>\n",
       "      <th>Longtitude</th>\n",
       "      <th>Propertycount</th>\n",
       "    </tr>\n",
       "  </thead>\n",
       "  <tbody>\n",
       "    <tr>\n",
       "      <th>count</th>\n",
       "      <td>9010.000000</td>\n",
       "      <td>9.010000e+03</td>\n",
       "      <td>9010.000000</td>\n",
       "      <td>9010.000000</td>\n",
       "      <td>9010.000000</td>\n",
       "      <td>9010.000000</td>\n",
       "      <td>8989.000000</td>\n",
       "      <td>9010.000000</td>\n",
       "      <td>4607.000000</td>\n",
       "      <td>5211.000000</td>\n",
       "      <td>9010.000000</td>\n",
       "      <td>9010.000000</td>\n",
       "      <td>9010.000000</td>\n",
       "    </tr>\n",
       "    <tr>\n",
       "      <th>mean</th>\n",
       "      <td>3.269034</td>\n",
       "      <td>1.200449e+06</td>\n",
       "      <td>11.658757</td>\n",
       "      <td>3107.191121</td>\n",
       "      <td>3.238291</td>\n",
       "      <td>1.638069</td>\n",
       "      <td>1.861497</td>\n",
       "      <td>793.588457</td>\n",
       "      <td>180.275041</td>\n",
       "      <td>1961.836500</td>\n",
       "      <td>-37.807111</td>\n",
       "      <td>145.001196</td>\n",
       "      <td>7267.095339</td>\n",
       "    </tr>\n",
       "    <tr>\n",
       "      <th>std</th>\n",
       "      <td>0.882978</td>\n",
       "      <td>6.854922e+05</td>\n",
       "      <td>5.975010</td>\n",
       "      <td>98.760126</td>\n",
       "      <td>0.907009</td>\n",
       "      <td>0.734687</td>\n",
       "      <td>0.996242</td>\n",
       "      <td>4882.157922</td>\n",
       "      <td>669.967595</td>\n",
       "      <td>34.991901</td>\n",
       "      <td>0.087845</td>\n",
       "      <td>0.117810</td>\n",
       "      <td>4349.347016</td>\n",
       "    </tr>\n",
       "    <tr>\n",
       "      <th>min</th>\n",
       "      <td>1.000000</td>\n",
       "      <td>1.310000e+05</td>\n",
       "      <td>0.700000</td>\n",
       "      <td>3000.000000</td>\n",
       "      <td>0.000000</td>\n",
       "      <td>0.000000</td>\n",
       "      <td>0.000000</td>\n",
       "      <td>202.000000</td>\n",
       "      <td>0.000000</td>\n",
       "      <td>1196.000000</td>\n",
       "      <td>-38.182550</td>\n",
       "      <td>144.431810</td>\n",
       "      <td>249.000000</td>\n",
       "    </tr>\n",
       "    <tr>\n",
       "      <th>25%</th>\n",
       "      <td>3.000000</td>\n",
       "      <td>7.390000e+05</td>\n",
       "      <td>7.800000</td>\n",
       "      <td>3044.000000</td>\n",
       "      <td>3.000000</td>\n",
       "      <td>1.000000</td>\n",
       "      <td>1.000000</td>\n",
       "      <td>444.250000</td>\n",
       "      <td>114.000000</td>\n",
       "      <td>1940.000000</td>\n",
       "      <td>-37.863273</td>\n",
       "      <td>144.920762</td>\n",
       "      <td>3952.000000</td>\n",
       "    </tr>\n",
       "    <tr>\n",
       "      <th>50%</th>\n",
       "      <td>3.000000</td>\n",
       "      <td>1.008000e+06</td>\n",
       "      <td>11.100000</td>\n",
       "      <td>3084.000000</td>\n",
       "      <td>3.000000</td>\n",
       "      <td>2.000000</td>\n",
       "      <td>2.000000</td>\n",
       "      <td>600.000000</td>\n",
       "      <td>147.000000</td>\n",
       "      <td>1960.000000</td>\n",
       "      <td>-37.795100</td>\n",
       "      <td>145.014500</td>\n",
       "      <td>6482.000000</td>\n",
       "    </tr>\n",
       "    <tr>\n",
       "      <th>75%</th>\n",
       "      <td>4.000000</td>\n",
       "      <td>1.460950e+06</td>\n",
       "      <td>13.900000</td>\n",
       "      <td>3147.750000</td>\n",
       "      <td>4.000000</td>\n",
       "      <td>2.000000</td>\n",
       "      <td>2.000000</td>\n",
       "      <td>713.750000</td>\n",
       "      <td>199.000000</td>\n",
       "      <td>1990.000000</td>\n",
       "      <td>-37.745150</td>\n",
       "      <td>145.076175</td>\n",
       "      <td>9758.000000</td>\n",
       "    </tr>\n",
       "    <tr>\n",
       "      <th>max</th>\n",
       "      <td>10.000000</td>\n",
       "      <td>9.000000e+06</td>\n",
       "      <td>48.100000</td>\n",
       "      <td>3977.000000</td>\n",
       "      <td>20.000000</td>\n",
       "      <td>8.000000</td>\n",
       "      <td>10.000000</td>\n",
       "      <td>433014.000000</td>\n",
       "      <td>44515.000000</td>\n",
       "      <td>2018.000000</td>\n",
       "      <td>-37.408530</td>\n",
       "      <td>145.526350</td>\n",
       "      <td>21650.000000</td>\n",
       "    </tr>\n",
       "  </tbody>\n",
       "</table>\n",
       "</div>"
      ],
      "text/plain": [
       "             Rooms         Price     Distance     Postcode     Bedroom2  \\\n",
       "count  9010.000000  9.010000e+03  9010.000000  9010.000000  9010.000000   \n",
       "mean      3.269034  1.200449e+06    11.658757  3107.191121     3.238291   \n",
       "std       0.882978  6.854922e+05     5.975010    98.760126     0.907009   \n",
       "min       1.000000  1.310000e+05     0.700000  3000.000000     0.000000   \n",
       "25%       3.000000  7.390000e+05     7.800000  3044.000000     3.000000   \n",
       "50%       3.000000  1.008000e+06    11.100000  3084.000000     3.000000   \n",
       "75%       4.000000  1.460950e+06    13.900000  3147.750000     4.000000   \n",
       "max      10.000000  9.000000e+06    48.100000  3977.000000    20.000000   \n",
       "\n",
       "          Bathroom          Car       Landsize  BuildingArea    YearBuilt  \\\n",
       "count  9010.000000  8989.000000    9010.000000   4607.000000  5211.000000   \n",
       "mean      1.638069     1.861497     793.588457    180.275041  1961.836500   \n",
       "std       0.734687     0.996242    4882.157922    669.967595    34.991901   \n",
       "min       0.000000     0.000000     202.000000      0.000000  1196.000000   \n",
       "25%       1.000000     1.000000     444.250000    114.000000  1940.000000   \n",
       "50%       2.000000     2.000000     600.000000    147.000000  1960.000000   \n",
       "75%       2.000000     2.000000     713.750000    199.000000  1990.000000   \n",
       "max       8.000000    10.000000  433014.000000  44515.000000  2018.000000   \n",
       "\n",
       "         Lattitude   Longtitude  Propertycount  \n",
       "count  9010.000000  9010.000000    9010.000000  \n",
       "mean    -37.807111   145.001196    7267.095339  \n",
       "std       0.087845     0.117810    4349.347016  \n",
       "min     -38.182550   144.431810     249.000000  \n",
       "25%     -37.863273   144.920762    3952.000000  \n",
       "50%     -37.795100   145.014500    6482.000000  \n",
       "75%     -37.745150   145.076175    9758.000000  \n",
       "max     -37.408530   145.526350   21650.000000  "
      ]
     },
     "execution_count": 4,
     "metadata": {},
     "output_type": "execute_result"
    }
   ],
   "source": [
    "melbourne_data.describe()"
   ]
  },
  {
   "cell_type": "code",
   "execution_count": 5,
   "metadata": {},
   "outputs": [
    {
     "data": {
      "text/html": [
       "<div>\n",
       "<style scoped>\n",
       "    .dataframe tbody tr th:only-of-type {\n",
       "        vertical-align: middle;\n",
       "    }\n",
       "\n",
       "    .dataframe tbody tr th {\n",
       "        vertical-align: top;\n",
       "    }\n",
       "\n",
       "    .dataframe thead th {\n",
       "        text-align: right;\n",
       "    }\n",
       "</style>\n",
       "<table border=\"1\" class=\"dataframe\">\n",
       "  <thead>\n",
       "    <tr style=\"text-align: right;\">\n",
       "      <th></th>\n",
       "      <th>Suburb</th>\n",
       "      <th>Address</th>\n",
       "      <th>Rooms</th>\n",
       "      <th>Type</th>\n",
       "      <th>Price</th>\n",
       "      <th>Method</th>\n",
       "      <th>SellerG</th>\n",
       "      <th>Date</th>\n",
       "      <th>Distance</th>\n",
       "      <th>Postcode</th>\n",
       "      <th>...</th>\n",
       "      <th>Bathroom</th>\n",
       "      <th>Car</th>\n",
       "      <th>Landsize</th>\n",
       "      <th>BuildingArea</th>\n",
       "      <th>YearBuilt</th>\n",
       "      <th>CouncilArea</th>\n",
       "      <th>Lattitude</th>\n",
       "      <th>Longtitude</th>\n",
       "      <th>Regionname</th>\n",
       "      <th>Propertycount</th>\n",
       "    </tr>\n",
       "  </thead>\n",
       "  <tbody>\n",
       "    <tr>\n",
       "      <th>0</th>\n",
       "      <td>Abbotsford</td>\n",
       "      <td>85 Turner St</td>\n",
       "      <td>2</td>\n",
       "      <td>h</td>\n",
       "      <td>1480000.0</td>\n",
       "      <td>S</td>\n",
       "      <td>Biggin</td>\n",
       "      <td>3/12/2016</td>\n",
       "      <td>2.5</td>\n",
       "      <td>3067.0</td>\n",
       "      <td>...</td>\n",
       "      <td>1.0</td>\n",
       "      <td>1.0</td>\n",
       "      <td>202.0</td>\n",
       "      <td>NaN</td>\n",
       "      <td>NaN</td>\n",
       "      <td>Yarra</td>\n",
       "      <td>-37.7996</td>\n",
       "      <td>144.9984</td>\n",
       "      <td>Northern Metropolitan</td>\n",
       "      <td>4019.0</td>\n",
       "    </tr>\n",
       "    <tr>\n",
       "      <th>1</th>\n",
       "      <td>Abbotsford</td>\n",
       "      <td>98 Charles St</td>\n",
       "      <td>2</td>\n",
       "      <td>h</td>\n",
       "      <td>1636000.0</td>\n",
       "      <td>S</td>\n",
       "      <td>Nelson</td>\n",
       "      <td>8/10/2016</td>\n",
       "      <td>2.5</td>\n",
       "      <td>3067.0</td>\n",
       "      <td>...</td>\n",
       "      <td>1.0</td>\n",
       "      <td>2.0</td>\n",
       "      <td>256.0</td>\n",
       "      <td>107.0</td>\n",
       "      <td>1890.0</td>\n",
       "      <td>Yarra</td>\n",
       "      <td>-37.8060</td>\n",
       "      <td>144.9954</td>\n",
       "      <td>Northern Metropolitan</td>\n",
       "      <td>4019.0</td>\n",
       "    </tr>\n",
       "    <tr>\n",
       "      <th>2</th>\n",
       "      <td>Abbotsford</td>\n",
       "      <td>3/72 Charles St</td>\n",
       "      <td>4</td>\n",
       "      <td>h</td>\n",
       "      <td>1330000.0</td>\n",
       "      <td>PI</td>\n",
       "      <td>Kay</td>\n",
       "      <td>18/03/2017</td>\n",
       "      <td>2.5</td>\n",
       "      <td>3067.0</td>\n",
       "      <td>...</td>\n",
       "      <td>2.0</td>\n",
       "      <td>2.0</td>\n",
       "      <td>780.0</td>\n",
       "      <td>135.0</td>\n",
       "      <td>1900.0</td>\n",
       "      <td>Yarra</td>\n",
       "      <td>-37.8073</td>\n",
       "      <td>144.9952</td>\n",
       "      <td>Northern Metropolitan</td>\n",
       "      <td>4019.0</td>\n",
       "    </tr>\n",
       "    <tr>\n",
       "      <th>3</th>\n",
       "      <td>Abbotsford</td>\n",
       "      <td>138/56 Nicholson St</td>\n",
       "      <td>3</td>\n",
       "      <td>u</td>\n",
       "      <td>1090000.0</td>\n",
       "      <td>S</td>\n",
       "      <td>Jellis</td>\n",
       "      <td>18/03/2017</td>\n",
       "      <td>2.5</td>\n",
       "      <td>3067.0</td>\n",
       "      <td>...</td>\n",
       "      <td>2.0</td>\n",
       "      <td>2.0</td>\n",
       "      <td>4290.0</td>\n",
       "      <td>27.0</td>\n",
       "      <td>NaN</td>\n",
       "      <td>Yarra</td>\n",
       "      <td>-37.8078</td>\n",
       "      <td>144.9965</td>\n",
       "      <td>Northern Metropolitan</td>\n",
       "      <td>4019.0</td>\n",
       "    </tr>\n",
       "    <tr>\n",
       "      <th>4</th>\n",
       "      <td>Airport West</td>\n",
       "      <td>154 Halsey Rd</td>\n",
       "      <td>3</td>\n",
       "      <td>t</td>\n",
       "      <td>840000.0</td>\n",
       "      <td>PI</td>\n",
       "      <td>Nelson</td>\n",
       "      <td>3/09/2016</td>\n",
       "      <td>13.5</td>\n",
       "      <td>3042.0</td>\n",
       "      <td>...</td>\n",
       "      <td>2.0</td>\n",
       "      <td>1.0</td>\n",
       "      <td>303.0</td>\n",
       "      <td>225.0</td>\n",
       "      <td>2016.0</td>\n",
       "      <td>Moonee Valley</td>\n",
       "      <td>-37.7180</td>\n",
       "      <td>144.8780</td>\n",
       "      <td>Western Metropolitan</td>\n",
       "      <td>3464.0</td>\n",
       "    </tr>\n",
       "  </tbody>\n",
       "</table>\n",
       "<p>5 rows × 21 columns</p>\n",
       "</div>"
      ],
      "text/plain": [
       "         Suburb              Address  Rooms Type      Price Method SellerG  \\\n",
       "0    Abbotsford         85 Turner St      2    h  1480000.0      S  Biggin   \n",
       "1    Abbotsford        98 Charles St      2    h  1636000.0      S  Nelson   \n",
       "2    Abbotsford      3/72 Charles St      4    h  1330000.0     PI     Kay   \n",
       "3    Abbotsford  138/56 Nicholson St      3    u  1090000.0      S  Jellis   \n",
       "4  Airport West        154 Halsey Rd      3    t   840000.0     PI  Nelson   \n",
       "\n",
       "         Date  Distance  Postcode  ...  Bathroom  Car  Landsize  BuildingArea  \\\n",
       "0   3/12/2016       2.5    3067.0  ...       1.0  1.0     202.0           NaN   \n",
       "1   8/10/2016       2.5    3067.0  ...       1.0  2.0     256.0         107.0   \n",
       "2  18/03/2017       2.5    3067.0  ...       2.0  2.0     780.0         135.0   \n",
       "3  18/03/2017       2.5    3067.0  ...       2.0  2.0    4290.0          27.0   \n",
       "4   3/09/2016      13.5    3042.0  ...       2.0  1.0     303.0         225.0   \n",
       "\n",
       "   YearBuilt    CouncilArea Lattitude  Longtitude             Regionname  \\\n",
       "0        NaN          Yarra  -37.7996    144.9984  Northern Metropolitan   \n",
       "1     1890.0          Yarra  -37.8060    144.9954  Northern Metropolitan   \n",
       "2     1900.0          Yarra  -37.8073    144.9952  Northern Metropolitan   \n",
       "3        NaN          Yarra  -37.8078    144.9965  Northern Metropolitan   \n",
       "4     2016.0  Moonee Valley  -37.7180    144.8780   Western Metropolitan   \n",
       "\n",
       "  Propertycount  \n",
       "0        4019.0  \n",
       "1        4019.0  \n",
       "2        4019.0  \n",
       "3        4019.0  \n",
       "4        3464.0  \n",
       "\n",
       "[5 rows x 21 columns]"
      ]
     },
     "execution_count": 5,
     "metadata": {},
     "output_type": "execute_result"
    }
   ],
   "source": [
    "# calling first 5 data set\n",
    "melbourne_data.head()"
   ]
  },
  {
   "cell_type": "code",
   "execution_count": 6,
   "metadata": {},
   "outputs": [
    {
     "data": {
      "text/plain": [
       "(9010, 21)"
      ]
     },
     "execution_count": 6,
     "metadata": {},
     "output_type": "execute_result"
    }
   ],
   "source": [
    "#finding the shape\n",
    "melbourne_data.shape"
   ]
  },
  {
   "cell_type": "code",
   "execution_count": 7,
   "metadata": {},
   "outputs": [
    {
     "data": {
      "text/plain": [
       "Suburb                      Abbotsford\n",
       "Address                   85 Turner St\n",
       "Rooms                                2\n",
       "Type                                 h\n",
       "Price                         1.48e+06\n",
       "Method                               S\n",
       "SellerG                         Biggin\n",
       "Date                         3/12/2016\n",
       "Distance                           2.5\n",
       "Postcode                          3067\n",
       "Bedroom2                             2\n",
       "Bathroom                             1\n",
       "Car                                  1\n",
       "Landsize                           202\n",
       "BuildingArea                       NaN\n",
       "YearBuilt                          NaN\n",
       "CouncilArea                      Yarra\n",
       "Lattitude                     -37.7996\n",
       "Longtitude                     144.998\n",
       "Regionname       Northern Metropolitan\n",
       "Propertycount                     4019\n",
       "Name: 0, dtype: object"
      ]
     },
     "execution_count": 7,
     "metadata": {},
     "output_type": "execute_result"
    }
   ],
   "source": [
    "# how do we get a row\n",
    "i = 0\n",
    "melbourne_data.loc[i]"
   ]
  },
  {
   "cell_type": "code",
   "execution_count": 8,
   "metadata": {},
   "outputs": [
    {
     "data": {
      "text/plain": [
       "Index(['Suburb', 'Address', 'Rooms', 'Type', 'Price', 'Method', 'SellerG',\n",
       "       'Date', 'Distance', 'Postcode', 'Bedroom2', 'Bathroom', 'Car',\n",
       "       'Landsize', 'BuildingArea', 'YearBuilt', 'CouncilArea', 'Lattitude',\n",
       "       'Longtitude', 'Regionname', 'Propertycount'],\n",
       "      dtype='object')"
      ]
     },
     "execution_count": 8,
     "metadata": {},
     "output_type": "execute_result"
    }
   ],
   "source": [
    "#this is to call the column (with list)\n",
    "  #   melbourne_data.columns.tolist() \n",
    "melbourne_data.columns"
   ]
  },
  {
   "cell_type": "code",
   "execution_count": 9,
   "metadata": {},
   "outputs": [
    {
     "data": {
      "text/plain": [
       "0        202.0\n",
       "1        256.0\n",
       "2        780.0\n",
       "3       4290.0\n",
       "4        303.0\n",
       "         ...  \n",
       "9005     652.0\n",
       "9006     333.0\n",
       "9007     436.0\n",
       "9008     866.0\n",
       "9009     362.0\n",
       "Name: Landsize, Length: 9010, dtype: float64"
      ]
     },
     "execution_count": 9,
     "metadata": {},
     "output_type": "execute_result"
    }
   ],
   "source": [
    "#How to select a perticular column\n",
    "colname = 'Landsize'\n",
    "melbourne_data[colname]"
   ]
  },
  {
   "cell_type": "code",
   "execution_count": 10,
   "metadata": {},
   "outputs": [
    {
     "data": {
      "text/plain": [
       "dtype('float64')"
      ]
     },
     "execution_count": 10,
     "metadata": {},
     "output_type": "execute_result"
    }
   ],
   "source": [
    "\n",
    "melbourne_data[colname].dtype"
   ]
  },
  {
   "cell_type": "code",
   "execution_count": 11,
   "metadata": {},
   "outputs": [
    {
     "data": {
      "text/plain": [
       "1     256.0\n",
       "2     780.0\n",
       "3    4290.0\n",
       "4     303.0\n",
       "5     272.0\n",
       "Name: Landsize, dtype: float64"
      ]
     },
     "execution_count": 11,
     "metadata": {},
     "output_type": "execute_result"
    }
   ],
   "source": [
    "duration=melbourne_data[colname].iloc[1:]\n",
    "duration.head()"
   ]
  },
  {
   "cell_type": "code",
   "execution_count": 12,
   "metadata": {},
   "outputs": [
    {
     "data": {
      "text/plain": [
       "1        256.0\n",
       "2        780.0\n",
       "3       4290.0\n",
       "4        303.0\n",
       "5        272.0\n",
       "         ...  \n",
       "9005     652.0\n",
       "9006     333.0\n",
       "9007     436.0\n",
       "9008     866.0\n",
       "9009     362.0\n",
       "Name: Landsize, Length: 9009, dtype: float64"
      ]
     },
     "execution_count": 12,
     "metadata": {},
     "output_type": "execute_result"
    }
   ],
   "source": [
    "pd.to_numeric(duration)"
   ]
  },
  {
   "cell_type": "code",
   "execution_count": 13,
   "metadata": {},
   "outputs": [
    {
     "data": {
      "text/plain": [
       "1     256\n",
       "2     780\n",
       "3    4290\n",
       "4     303\n",
       "5     272\n",
       "Name: Landsize, dtype: int64"
      ]
     },
     "execution_count": 13,
     "metadata": {},
     "output_type": "execute_result"
    }
   ],
   "source": [
    "duration_in_ints = duration.apply(lambda x: int(x))\n",
    "duration_in_ints.head()"
   ]
  },
  {
   "cell_type": "code",
   "execution_count": 14,
   "metadata": {},
   "outputs": [
    {
     "data": {
      "text/plain": [
       "1        256\n",
       "2        780\n",
       "3       4290\n",
       "4        303\n",
       "5        272\n",
       "        ... \n",
       "9005     652\n",
       "9006     333\n",
       "9007     436\n",
       "9008     866\n",
       "9009     362\n",
       "Name: Landsize, Length: 9009, dtype: int32"
      ]
     },
     "execution_count": 14,
     "metadata": {},
     "output_type": "execute_result"
    }
   ],
   "source": [
    "duration_in_ints = duration.astype(int)\n",
    "duration_in_ints"
   ]
  },
  {
   "cell_type": "code",
   "execution_count": 15,
   "metadata": {},
   "outputs": [
    {
     "data": {
      "image/png": "[encoded data removed]",
      "text/plain": [
       "<Figure size 432x288 with 1 Axes>"
      ]
     },
     "metadata": {
      "needs_background": "light"
     },
     "output_type": "display_data"
    }
   ],
   "source": [
    "%matplotlib inline\n",
    "ax = duration_in_ints.hist(bins=50)"
   ]
  },
  {
   "cell_type": "code",
   "execution_count": 23,
   "metadata": {},
   "outputs": [
    {
     "data": {
      "text/plain": [
       "<AxesSubplot:>"
      ]
     },
     "execution_count": 23,
     "metadata": {},
     "output_type": "execute_result"
    },
    {
     "data": {
      "image/png": "[encoded data removed]",
      "text/plain": [
       "<Figure size 432x288 with 1 Axes>"
      ]
     },
     "metadata": {
      "needs_background": "light"
     },
     "output_type": "display_data"
    }
   ],
   "source": [
    "#filtering data\n",
    "#Boolean indices\n",
    "(duration_in_ints[duration_in_ints < 650]).hist()"
   ]
  },
  {
   "cell_type": "code",
   "execution_count": 24,
   "metadata": {},
   "outputs": [
    {
     "data": {
      "text/plain": [
       "Int64Index([], dtype='int64')"
      ]
     },
     "execution_count": 24,
     "metadata": {},
     "output_type": "execute_result"
    }
   ],
   "source": [
    "to_drop = duration_in_ints.index[duration_in_ints < 250]\n",
    "to_drop"
   ]
  },
  {
   "cell_type": "code",
   "execution_count": 25,
   "metadata": {},
   "outputs": [
    {
     "data": {
      "text/html": [
       "<div>\n",
       "<style scoped>\n",
       "    .dataframe tbody tr th:only-of-type {\n",
       "        vertical-align: middle;\n",
       "    }\n",
       "\n",
       "    .dataframe tbody tr th {\n",
       "        vertical-align: top;\n",
       "    }\n",
       "\n",
       "    .dataframe thead th {\n",
       "        text-align: right;\n",
       "    }\n",
       "</style>\n",
       "<table border=\"1\" class=\"dataframe\">\n",
       "  <thead>\n",
       "    <tr style=\"text-align: right;\">\n",
       "      <th></th>\n",
       "      <th>Suburb</th>\n",
       "      <th>Address</th>\n",
       "      <th>Rooms</th>\n",
       "      <th>Type</th>\n",
       "      <th>Price</th>\n",
       "      <th>Method</th>\n",
       "      <th>SellerG</th>\n",
       "      <th>Date</th>\n",
       "      <th>Distance</th>\n",
       "      <th>Postcode</th>\n",
       "      <th>...</th>\n",
       "      <th>Bathroom</th>\n",
       "      <th>Car</th>\n",
       "      <th>Landsize</th>\n",
       "      <th>BuildingArea</th>\n",
       "      <th>YearBuilt</th>\n",
       "      <th>CouncilArea</th>\n",
       "      <th>Lattitude</th>\n",
       "      <th>Longtitude</th>\n",
       "      <th>Regionname</th>\n",
       "      <th>Propertycount</th>\n",
       "    </tr>\n",
       "  </thead>\n",
       "  <tbody>\n",
       "    <tr>\n",
       "      <th>0</th>\n",
       "      <td>Abbotsford</td>\n",
       "      <td>85 Turner St</td>\n",
       "      <td>2</td>\n",
       "      <td>h</td>\n",
       "      <td>1480000.0</td>\n",
       "      <td>S</td>\n",
       "      <td>Biggin</td>\n",
       "      <td>3/12/2016</td>\n",
       "      <td>2.5</td>\n",
       "      <td>3067.0</td>\n",
       "      <td>...</td>\n",
       "      <td>1.0</td>\n",
       "      <td>1.0</td>\n",
       "      <td>202.0</td>\n",
       "      <td>NaN</td>\n",
       "      <td>NaN</td>\n",
       "      <td>Yarra</td>\n",
       "      <td>-37.7996</td>\n",
       "      <td>144.9984</td>\n",
       "      <td>Northern Metropolitan</td>\n",
       "      <td>4019.0</td>\n",
       "    </tr>\n",
       "    <tr>\n",
       "      <th>1</th>\n",
       "      <td>Abbotsford</td>\n",
       "      <td>98 Charles St</td>\n",
       "      <td>2</td>\n",
       "      <td>h</td>\n",
       "      <td>1636000.0</td>\n",
       "      <td>S</td>\n",
       "      <td>Nelson</td>\n",
       "      <td>8/10/2016</td>\n",
       "      <td>2.5</td>\n",
       "      <td>3067.0</td>\n",
       "      <td>...</td>\n",
       "      <td>1.0</td>\n",
       "      <td>2.0</td>\n",
       "      <td>256.0</td>\n",
       "      <td>107.0</td>\n",
       "      <td>1890.0</td>\n",
       "      <td>Yarra</td>\n",
       "      <td>-37.8060</td>\n",
       "      <td>144.9954</td>\n",
       "      <td>Northern Metropolitan</td>\n",
       "      <td>4019.0</td>\n",
       "    </tr>\n",
       "    <tr>\n",
       "      <th>2</th>\n",
       "      <td>Abbotsford</td>\n",
       "      <td>3/72 Charles St</td>\n",
       "      <td>4</td>\n",
       "      <td>h</td>\n",
       "      <td>1330000.0</td>\n",
       "      <td>PI</td>\n",
       "      <td>Kay</td>\n",
       "      <td>18/03/2017</td>\n",
       "      <td>2.5</td>\n",
       "      <td>3067.0</td>\n",
       "      <td>...</td>\n",
       "      <td>2.0</td>\n",
       "      <td>2.0</td>\n",
       "      <td>780.0</td>\n",
       "      <td>135.0</td>\n",
       "      <td>1900.0</td>\n",
       "      <td>Yarra</td>\n",
       "      <td>-37.8073</td>\n",
       "      <td>144.9952</td>\n",
       "      <td>Northern Metropolitan</td>\n",
       "      <td>4019.0</td>\n",
       "    </tr>\n",
       "    <tr>\n",
       "      <th>3</th>\n",
       "      <td>Abbotsford</td>\n",
       "      <td>138/56 Nicholson St</td>\n",
       "      <td>3</td>\n",
       "      <td>u</td>\n",
       "      <td>1090000.0</td>\n",
       "      <td>S</td>\n",
       "      <td>Jellis</td>\n",
       "      <td>18/03/2017</td>\n",
       "      <td>2.5</td>\n",
       "      <td>3067.0</td>\n",
       "      <td>...</td>\n",
       "      <td>2.0</td>\n",
       "      <td>2.0</td>\n",
       "      <td>4290.0</td>\n",
       "      <td>27.0</td>\n",
       "      <td>NaN</td>\n",
       "      <td>Yarra</td>\n",
       "      <td>-37.8078</td>\n",
       "      <td>144.9965</td>\n",
       "      <td>Northern Metropolitan</td>\n",
       "      <td>4019.0</td>\n",
       "    </tr>\n",
       "    <tr>\n",
       "      <th>4</th>\n",
       "      <td>Airport West</td>\n",
       "      <td>154 Halsey Rd</td>\n",
       "      <td>3</td>\n",
       "      <td>t</td>\n",
       "      <td>840000.0</td>\n",
       "      <td>PI</td>\n",
       "      <td>Nelson</td>\n",
       "      <td>3/09/2016</td>\n",
       "      <td>13.5</td>\n",
       "      <td>3042.0</td>\n",
       "      <td>...</td>\n",
       "      <td>2.0</td>\n",
       "      <td>1.0</td>\n",
       "      <td>303.0</td>\n",
       "      <td>225.0</td>\n",
       "      <td>2016.0</td>\n",
       "      <td>Moonee Valley</td>\n",
       "      <td>-37.7180</td>\n",
       "      <td>144.8780</td>\n",
       "      <td>Western Metropolitan</td>\n",
       "      <td>3464.0</td>\n",
       "    </tr>\n",
       "  </tbody>\n",
       "</table>\n",
       "<p>5 rows × 21 columns</p>\n",
       "</div>"
      ],
      "text/plain": [
       "         Suburb              Address  Rooms Type      Price Method SellerG  \\\n",
       "0    Abbotsford         85 Turner St      2    h  1480000.0      S  Biggin   \n",
       "1    Abbotsford        98 Charles St      2    h  1636000.0      S  Nelson   \n",
       "2    Abbotsford      3/72 Charles St      4    h  1330000.0     PI     Kay   \n",
       "3    Abbotsford  138/56 Nicholson St      3    u  1090000.0      S  Jellis   \n",
       "4  Airport West        154 Halsey Rd      3    t   840000.0     PI  Nelson   \n",
       "\n",
       "         Date  Distance  Postcode  ...  Bathroom  Car  Landsize  BuildingArea  \\\n",
       "0   3/12/2016       2.5    3067.0  ...       1.0  1.0     202.0           NaN   \n",
       "1   8/10/2016       2.5    3067.0  ...       1.0  2.0     256.0         107.0   \n",
       "2  18/03/2017       2.5    3067.0  ...       2.0  2.0     780.0         135.0   \n",
       "3  18/03/2017       2.5    3067.0  ...       2.0  2.0    4290.0          27.0   \n",
       "4   3/09/2016      13.5    3042.0  ...       2.0  1.0     303.0         225.0   \n",
       "\n",
       "   YearBuilt    CouncilArea Lattitude  Longtitude             Regionname  \\\n",
       "0        NaN          Yarra  -37.7996    144.9984  Northern Metropolitan   \n",
       "1     1890.0          Yarra  -37.8060    144.9954  Northern Metropolitan   \n",
       "2     1900.0          Yarra  -37.8073    144.9952  Northern Metropolitan   \n",
       "3        NaN          Yarra  -37.8078    144.9965  Northern Metropolitan   \n",
       "4     2016.0  Moonee Valley  -37.7180    144.8780   Western Metropolitan   \n",
       "\n",
       "  Propertycount  \n",
       "0        4019.0  \n",
       "1        4019.0  \n",
       "2        4019.0  \n",
       "3        4019.0  \n",
       "4        3464.0  \n",
       "\n",
       "[5 rows x 21 columns]"
      ]
     },
     "execution_count": 25,
     "metadata": {},
     "output_type": "execute_result"
    }
   ],
   "source": [
    "melbourne_data.drop(to_drop, axis=0, inplace=True)\n",
    "melbourne_data.head()"
   ]
  },
  {
   "cell_type": "code",
   "execution_count": 26,
   "metadata": {},
   "outputs": [
    {
     "data": {
      "text/plain": [
       "250"
      ]
     },
     "execution_count": 26,
     "metadata": {},
     "output_type": "execute_result"
    }
   ],
   "source": [
    "melbourne_data[colname].iloc[1:].astype(int).min()"
   ]
  },
  {
   "cell_type": "code",
   "execution_count": 27,
   "metadata": {},
   "outputs": [],
   "source": [
    "# to save the data we have done or to use it next time.\n",
    "melbourne_data.to_csv('melb_data (1)_clean.csv', index = False)"
   ]
  },
  {
   "cell_type": "code",
   "execution_count": null,
   "metadata": {},
   "outputs": [],
   "source": []
  }
 ],
 "metadata": {
  "kernelspec": {
   "display_name": "Python 3",
   "language": "python",
   "name": "python3"
  },
  "language_info": {
   "codemirror_mode": {
    "name": "ipython",
    "version": 3
   },
   "file_extension": ".py",
   "mimetype": "text/x-python",
   "name": "python",
   "nbconvert_exporter": "python",
   "pygments_lexer": "ipython3",
   "version": "3.8.5"
  }
 },
 "nbformat": 4,
 "nbformat_minor": 4
}
