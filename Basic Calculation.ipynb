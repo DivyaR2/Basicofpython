{
 "cells": [
  {
   "cell_type": "code",
   "execution_count": 1,
   "metadata": {},
   "outputs": [
    {
     "name": "stdout",
     "output_type": "stream",
     "text": [
      "Enter number in positive & nagative:  ([12, -7, 5, 64, -14], [12, 14, -95, 3])\n",
      "A positive number:  [[12, 5, 64], [12, 14, 3]]\n"
     ]
    }
   ],
   "source": [
    "# pythom program to find out positive number in the given inputs\n",
    "\n",
    "Input = ([12,-7,5,64,-14], [12,14,-95,3])\n",
    "Output = []\n",
    "for elem in Input:\n",
    "    temp =[]\n",
    "    for x in elem:\n",
    "        if x>0:\n",
    "            temp.append(x)\n",
    "    Output.append(temp)     \n",
    "print('Enter number in positive & nagative: ', Input)\n",
    "\n",
    "print('A positive number: ', Output)"
   ]
  },
  {
   "cell_type": "code",
   "execution_count": 2,
   "metadata": {},
   "outputs": [
    {
     "name": "stdout",
     "output_type": "stream",
     "text": [
      "Please enter the Total Number of List Elements: 4\n",
      "Please enter the Value of 1 Element : -45\n",
      "Please enter the Value of 2 Element : 7\n",
      "Please enter the Value of 3 Element : -23\n",
      "Please enter the Value of 4 Element : 13\n",
      "\n",
      "Positive Numbers in this List are : \n",
      "7   13   "
     ]
    }
   ],
   "source": [
    " #python program to find positive numbers by giving input\n",
    "\n",
    "NumList = []\n",
    "j = 0\n",
    "\n",
    "n = int(input(\"Please enter the Total Number of List Elements: \"))\n",
    "for i in range(1, n + 1):\n",
    "    value = int(input(\"Please enter the Value of %d Element : \" %i))\n",
    "    NumList.append(value)\n",
    "\n",
    "print(\"\\nPositive Numbers in this List are : \")\n",
    "while(j < n):\n",
    "    if(NumList[j] >= 0):\n",
    "        print(NumList[j], end = '   ')\n",
    "    j = j + 1\n",
    "    \n"
   ]
  },
  {
   "cell_type": "code",
   "execution_count": 4,
   "metadata": {},
   "outputs": [
    {
     "name": "stdout",
     "output_type": "stream",
     "text": [
      "Please enter the Total Number of List Elements: 5\n",
      "Please enter the Value of 0 Element : 54\n",
      "Please enter the Value of 1 Element : 32\n",
      "Please enter the Value of 2 Element : 76\n",
      "Please enter the Value of 3 Element : 3\n",
      "Please enter the Value of 4 Element : 8\n",
      "Please enter the Value of 5 Element : 15\n",
      "Element After Sorting List in Ascending Order is :  [3, 8, 15, 32, 54, 76]\n"
     ]
    }
   ],
   "source": [
    "# Python Program to Sort List in Ascending Order\n",
    "\n",
    "NumList = []\n",
    "\n",
    "n = int(input(\"Please enter the Total Number of List Elements: \"))\n",
    "for i in range( n + 1):\n",
    "    value = int(input(\"Please enter the Value of %d Element : \" %i))\n",
    "    NumList.append(value)\n",
    "\n",
    "NumList.sort()\n",
    "\n",
    "print(\"Element After Sorting List in Ascending Order is : \", NumList)"
   ]
  },
  {
   "cell_type": "code",
   "execution_count": null,
   "metadata": {},
   "outputs": [],
   "source": []
  }
 ],
 "metadata": {
  "kernelspec": {
   "display_name": "Python 3",
   "language": "python",
   "name": "python3"
  },
  "language_info": {
   "codemirror_mode": {
    "name": "ipython",
    "version": 3
   },
   "file_extension": ".py",
   "mimetype": "text/x-python",
   "name": "python",
   "nbconvert_exporter": "python",
   "pygments_lexer": "ipython3",
   "version": "3.8.5"
  }
 },
 "nbformat": 4,
 "nbformat_minor": 4
}
